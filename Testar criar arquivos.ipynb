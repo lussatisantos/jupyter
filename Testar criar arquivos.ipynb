{
 "cells": [
  {
   "cell_type": "markdown",
   "id": "096fa0ca-c284-473b-a510-32fd039d4e31",
   "metadata": {},
   "source": [
    "# Testar criar arquivo directamente do Jupyter"
   ]
  },
  {
   "cell_type": "code",
   "execution_count": 9,
   "id": "f40f3bf8-a1cb-4ceb-8d33-876991ed2576",
   "metadata": {},
   "outputs": [
    {
     "name": "stdout",
     "output_type": "stream",
     "text": [
      "Writing soma.py\n"
     ]
    }
   ],
   "source": [
    "%%writefile soma.py\n",
    "x = 2\n",
    "y = 4\n",
    "s = x + y\n",
    "print('A soma dos valores sera igual a' ,s)"
   ]
  },
  {
   "cell_type": "code",
   "execution_count": 10,
   "id": "0584c765-dff1-4bee-be18-cf053db99ed5",
   "metadata": {},
   "outputs": [
    {
     "name": "stdout",
     "output_type": "stream",
     "text": [
      "Writing soma.js\n"
     ]
    }
   ],
   "source": [
    "%%writefile soma.js\n",
    "var x = 9\n",
    "var y = 6\n",
    "let s = x + y\n",
    "console.log(s)"
   ]
  },
  {
   "cell_type": "code",
   "execution_count": 12,
   "id": "d039424f-4e6e-42b2-84b4-a52f47453c5a",
   "metadata": {},
   "outputs": [
    {
     "name": "stdout",
     "output_type": "stream",
     "text": [
      "Overwriting funcaosoma.js\n"
     ]
    }
   ],
   "source": [
    "%%writefile funcaosoma.js\n",
    "function soma(x, y) {\n",
    "    return x + y\n",
    "}\n",
    "\n",
    "console.log(soma(5, 6))\n"
   ]
  },
  {
   "cell_type": "code",
   "execution_count": null,
   "id": "6be71833-19e9-44c0-a324-97ca8f666b42",
   "metadata": {},
   "outputs": [],
   "source": []
  }
 ],
 "metadata": {
  "kernelspec": {
   "display_name": "Python 3 (ipykernel)",
   "language": "python",
   "name": "python3"
  },
  "language_info": {
   "codemirror_mode": {
    "name": "ipython",
    "version": 3
   },
   "file_extension": ".py",
   "mimetype": "text/x-python",
   "name": "python",
   "nbconvert_exporter": "python",
   "pygments_lexer": "ipython3",
   "version": "3.10.6"
  }
 },
 "nbformat": 4,
 "nbformat_minor": 5
}
