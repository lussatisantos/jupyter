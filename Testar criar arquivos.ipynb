{
 "cells": [
  {
   "cell_type": "markdown",
   "id": "096fa0ca-c284-473b-a510-32fd039d4e31",
   "metadata": {},
   "source": [
    "# Testar criar arquivo directamente do Jupyter"
   ]
  },
  {
   "cell_type": "code",
   "execution_count": 8,
   "id": "f40f3bf8-a1cb-4ceb-8d33-876991ed2576",
   "metadata": {},
   "outputs": [
    {
     "name": "stderr",
     "output_type": "stream",
     "text": [
      "UsageError: %%writefile is a cell magic, but the cell body is empty.\n"
     ]
    }
   ],
   "source": [
    "%%writefile soma.py\n",
    "x = 2\n",
    "y = 4\n",
    "s = x + y\n",
    "print('A soma dos valores sera igual a' ,s"
   ]
  },
  {
   "cell_type": "code",
   "execution_count": null,
   "id": "0584c765-dff1-4bee-be18-cf053db99ed5",
   "metadata": {},
   "outputs": [],
   "source": []
  }
 ],
 "metadata": {
  "kernelspec": {
   "display_name": "Python 3 (ipykernel)",
   "language": "python",
   "name": "python3"
  },
  "language_info": {
   "codemirror_mode": {
    "name": "ipython",
    "version": 3
   },
   "file_extension": ".py",
   "mimetype": "text/x-python",
   "name": "python",
   "nbconvert_exporter": "python",
   "pygments_lexer": "ipython3",
   "version": "3.10.6"
  }
 },
 "nbformat": 4,
 "nbformat_minor": 5
}
