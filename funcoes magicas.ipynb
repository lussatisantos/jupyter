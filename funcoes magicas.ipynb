{
 "cells": [
  {
   "cell_type": "markdown",
   "id": "726a3204-e4c3-4fd4-9d77-bc603e07eb15",
   "metadata": {},
   "source": [
    "# Funcoes magicas Jupyter"
   ]
  },
  {
   "cell_type": "code",
   "execution_count": null,
   "id": "fca3d6ef-4fe8-4946-b096-2250d9fde574",
   "metadata": {},
   "outputs": [],
   "source": [
    "&&html"
   ]
  },
  {
   "cell_type": "code",
   "execution_count": null,
   "id": "18045fb7-b7af-4f30-adf4-bd07421217dc",
   "metadata": {},
   "outputs": [],
   "source": [
    "&&writefile teo.py"
   ]
  },
  {
   "cell_type": "code",
   "execution_count": null,
   "id": "de68150a-6066-41a3-95ce-ed3658eb0c12",
   "metadata": {},
   "outputs": [],
   "source": []
  }
 ],
 "metadata": {
  "kernelspec": {
   "display_name": "Python 3 (ipykernel)",
   "language": "python",
   "name": "python3"
  },
  "language_info": {
   "codemirror_mode": {
    "name": "ipython",
    "version": 3
   },
   "file_extension": ".py",
   "mimetype": "text/x-python",
   "name": "python",
   "nbconvert_exporter": "python",
   "pygments_lexer": "ipython3",
   "version": "3.10.6"
  }
 },
 "nbformat": 4,
 "nbformat_minor": 5
}
