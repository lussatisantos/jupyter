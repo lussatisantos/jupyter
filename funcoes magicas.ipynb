{
 "cells": [
  {
   "cell_type": "code",
   "execution_count": null,
   "id": "96b0c2b8-2811-4e44-9fa3-b2694f5a7183",
   "metadata": {},
   "outputs": [],
   "source": []
  },
  {
   "cell_type": "code",
   "execution_count": null,
   "id": "9f6de450-1d10-4554-b32c-ced9bce20964",
   "metadata": {},
   "outputs": [],
   "source": []
  },
  {
   "cell_type": "code",
   "execution_count": null,
   "id": "bb14d609-6422-442d-a9a1-9ea8a2a770a5",
   "metadata": {},
   "outputs": [],
   "source": []
  },
  {
   "cell_type": "markdown",
   "id": "726a3204-e4c3-4fd4-9d77-bc603e07eb15",
   "metadata": {
    "jp-MarkdownHeadingCollapsed": true
   },
   "source": [
    "# Funcoes magicas Jupyter"
   ]
  },
  {
   "cell_type": "markdown",
   "id": "5dc8d4d9-d5ce-4f8c-aa86-e93fdcd3697f",
   "metadata": {},
   "source": []
  },
  {
   "cell_type": "markdown",
   "id": "8ccde738-e8bc-4fb1-b50c-ef0e751600cc",
   "metadata": {},
   "source": [
    "- html"
   ]
  },
  {
   "cell_type": "code",
   "execution_count": 6,
   "id": "19dc301d-3f78-4647-a0c5-fa1f9c98c4b8",
   "metadata": {},
   "outputs": [
    {
     "data": {
      "text/html": [
       "<p> Ola Mundo</p>\n"
      ],
      "text/plain": [
       "<IPython.core.display.HTML object>"
      ]
     },
     "metadata": {},
     "output_type": "display_data"
    }
   ],
   "source": [
    "%%html\n",
    "<p> Ola Mundo</p>"
   ]
  },
  {
   "cell_type": "code",
   "execution_count": 7,
   "id": "1843d244-034f-4a99-9166-40ce745793df",
   "metadata": {},
   "outputs": [
    {
     "name": "stderr",
     "output_type": "stream",
     "text": [
      "UsageError: %%writefile is a cell magic, but the cell body is empty.\n"
     ]
    }
   ],
   "source": [
    "%%writefile testando.py"
   ]
  },
  {
   "cell_type": "code",
   "execution_count": null,
   "id": "fcb98766-cf6c-4f53-98fa-ef4eabbb2ceb",
   "metadata": {},
   "outputs": [],
   "source": []
  },
  {
   "cell_type": "code",
   "execution_count": null,
   "id": "7b4dbe0b-00ac-444f-acec-8837c5bdf4ed",
   "metadata": {},
   "outputs": [],
   "source": []
  },
  {
   "cell_type": "code",
   "execution_count": null,
   "id": "8302a726-5ed5-4c80-acf9-04d35adac897",
   "metadata": {},
   "outputs": [],
   "source": []
  }
 ],
 "metadata": {
  "kernelspec": {
   "display_name": "Python 3 (ipykernel)",
   "language": "python",
   "name": "python3"
  },
  "language_info": {
   "codemirror_mode": {
    "name": "ipython",
    "version": 3
   },
   "file_extension": ".py",
   "mimetype": "text/x-python",
   "name": "python",
   "nbconvert_exporter": "python",
   "pygments_lexer": "ipython3",
   "version": "3.10.6"
  }
 },
 "nbformat": 4,
 "nbformat_minor": 5
}
